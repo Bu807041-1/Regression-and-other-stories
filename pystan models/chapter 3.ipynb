{
 "cells": [
  {
   "cell_type": "markdown",
   "metadata": {},
   "source": [
    "# Class 3\n",
    "\n",
    "This class is based on Chapter 3 in Gelman, Hill and Vehtari (2019)."
   ]
  },
  {
   "cell_type": "code",
   "execution_count": 3,
   "metadata": {},
   "outputs": [],
   "source": [
    "import numpy as np\n",
    "import scipy.stats as ss\n",
    "import matplotlib.pyplot as plt\n",
    "%matplotlib inline"
   ]
  },
  {
   "cell_type": "markdown",
   "metadata": {},
   "source": [
    "## Methods in mathematics and probability\n",
    "\n",
    "The mathematical tools for statical for statisitical modelling is linear algebra and probability distributions.\n",
    "\n",
    "### Weighted averages\n",
    "\n",
    "in statisitic reweighting data is common; it allows the adaption of the data to be more directed towards the population and the  imporved infernce based on this. \n",
    "\n",
    "A simple example - in 2010 there were 456 million north american residents. 310 million residnet of the united states, 34 million canadians and 112 million Mexicans.\n",
    "\n",
    "The average age of an american in 2010 was 36.8 years old; and the avarge age of Canadians was 40.7, wheras the averge age of  Mexicans was \n",
    "\n",
    "The question then is what is the average age of a north american this can be calculated by the weighted average using the avaarge ages of each country and then multpying by the populaion size to take the proportion\n",
    "\n",
    "$$ Average \\: age = \\frac{310000000 \\times 36.8 + 34000000 \\times 40.7 +  112000000 \\times 26.7 }{310000000 + 34000000 + 112000000} \\:= \\:34.6$$\n",
    "\n",
    "The expression above can be rewritten to show the proportional nature of the equation to find the weighted average\n",
    "\n",
    "$$ Average \\: age = \\frac{310000000}{456000000} \\times 36.8 + \\frac{34000000}{456000000} \\times 40.7$ + \\frac{112000000}{456000000}\\times 26.7 \\:= \\: 0.6798 \\times 36.8 + 0.0746\\times 40.7+ 0.2456 \\times 26.7$$ $$\\:= \\:34.6$$\n",
    "\n",
    "As shown the proportion sum to 1 as neccesary and are the weights in the weighted average.\n",
    "\n",
    "This can then be represnted by this formula below.\n",
    "### $$Weighted\\: Avearge = \\frac{\\Sigma_jN_j\\bar{y}_j}{\\Sigma_jN_j}$$\n"
   ]
  },
  {
   "cell_type": "markdown",
   "metadata": {},
   "source": [
    "### Vectors and Matrices\n",
    "\n",
    "Lists of numbers are called vectors. Where as a rectangular array of number is called a matrix. Formulting number this way is useful for prestning a statisical model.\n",
    "\n",
    "Example model tp demonstrate\n",
    "\n",
    "$$ Predicted \\: vote \\: percentage = 46.3 + 3.0 \\times(growth\\: rate\\: of \\:personnel \\: income)$$\n",
    "\n",
    "$$ \\hat{y} = 46.3+3.0x $$\n",
    "\n",
    "$$ Vector form$$\n",
    "\n",
    "$$\\hat{y} =\n",
    "\\begin{pmatrix}\n",
    "43.3\\\\\n",
    "46.3\\\\\n",
    "55.3\n",
    "\\end{pmatrix}\n",
    "=\n",
    "\\begin{pmatrix}\n",
    "46.3+3.0 \\times(-1)\\\\\n",
    "46.3+3.0 \\times0\\\\\n",
    "46.3+3.0 \\times3\n",
    "\\end{pmatrix}\n",
    "$$\n",
    "\n",
    "$$Matrix form$$\n",
    "\n",
    "$$\\hat{y} =\n",
    "\\begin{pmatrix}\n",
    "43.3\\\\\n",
    "46.3\\\\\n",
    "55.3\n",
    "\\end{pmatrix}\n",
    "=\n",
    "\\begin{pmatrix}\n",
    "1 & -1)\\\\\n",
    "1 & 0\\\\\n",
    "1 & 3.0 \n",
    "\\end{pmatrix}\n",
    "\\begin{pmatrix}\n",
    "46.3\\\\\n",
    "3.0\n",
    "\\end{pmatrix}\n",
    "$$"
   ]
  },
  {
   "cell_type": "markdown",
   "metadata": {},
   "source": [
    "# Probability distributions\n",
    "\n",
    "All the work above this have bee forcused on the linear funtion part of regression model and is the determinsitic part of the statisitical model. Following on ftom this discussion is based on the random/error part of statistical models, which requires dicussion of probability distributions and random variables.\n",
    "\n",
    "he standard model for exrpessing probability distributions pulling balls from an urn Lindley (2014) where the bal is pulled randomly from the urn value on the ball is the random variable. Thsi of course is not a thorough or axiomatic formulation of probabityl but the focus here is on applied practice.\n",
    "\n",
    "The notation for data distribution $y_i, i = 1,...,n$. error terms are distributed $\\sigma_i, i = 1,$.\n",
    "\n",
    "### Expected value/mean ($E[x] or \\mu_x$) Standard deviation ($\\sigma$) of probabilty distributions\n",
    "\n",
    "A probability of a random variable $x$ can take on arange of values. The expected value of the random variable is the average of the values of the random variable and woul dbe obained when taking a random sample (every value of that random variable has ewual chance of being sampled)"
   ]
  },
  {
   "cell_type": "code",
   "execution_count": 12,
   "metadata": {},
   "outputs": [
    {
     "data": {
      "text/plain": [
       "[<matplotlib.lines.Line2D at 0x22102623348>]"
      ]
     },
     "execution_count": 12,
     "metadata": {},
     "output_type": "execute_result"
    },
    {
     "data": {
      "image/png": "[encoded data removed]",
      "text/plain": [
       "<Figure size 432x288 with 1 Axes>"
      ]
     },
     "metadata": {
      "needs_background": "light"
     },
     "output_type": "display_data"
    }
   ],
   "source": [
    "x = np.arange(55, 75, 0.001)\n",
    "plt.plot(x, ss.norm.pdf(x,loc=63.7, scale=2.7))"
   ]
  },
  {
   "cell_type": "code",
   "execution_count": null,
   "metadata": {},
   "outputs": [],
   "source": []
  },
  {
   "cell_type": "markdown",
   "metadata": {},
   "source": [
    "# <center>References</center>\n",
    "Gelman, A., Hill, J., & Vehtari, A. (2019). Regression and other stories. New York, NY: Cambridge University Press.\n",
    "\n",
    "Lindley, D. (2014). Understanding uncertainty. Wiley."
   ]
  },
  {
   "cell_type": "code",
   "execution_count": null,
   "metadata": {},
   "outputs": [],
   "source": []
  }
 ],
 "metadata": {
  "kernelspec": {
   "display_name": "Python 3",
   "language": "python",
   "name": "python3"
  },
  "language_info": {
   "codemirror_mode": {
    "name": "ipython",
    "version": 3
   },
   "file_extension": ".py",
   "mimetype": "text/x-python",
   "name": "python",
   "nbconvert_exporter": "python",
   "pygments_lexer": "ipython3",
   "version": "3.7.4"
  }
 },
 "nbformat": 4,
 "nbformat_minor": 2
}
