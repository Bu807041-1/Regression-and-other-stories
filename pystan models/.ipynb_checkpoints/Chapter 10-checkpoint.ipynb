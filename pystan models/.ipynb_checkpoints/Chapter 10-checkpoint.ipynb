{
 "cells": [
  {
   "cell_type": "markdown",
   "metadata": {},
   "source": [
    "# Class 10 \n",
    "\n",
    "The following notebook is based on chapter 10 from Gelman, Hill and Vehtari (2019)"
   ]
  },
  {
   "cell_type": "code",
   "execution_count": 1,
   "metadata": {},
   "outputs": [],
   "source": [
    "#Import relevant analyis and visualisation packages.\n",
    "import pystan as ps\n",
    "import pandas as pd\n",
    "import numpy as np\n",
    "import arviz as az\n",
    "import seaborn as sns\n",
    "import matplotlib.pyplot as plt\n",
    "from scipy import stats"
   ]
  },
  {
   "cell_type": "code",
   "execution_count": 34,
   "metadata": {},
   "outputs": [
    {
     "data": {
      "text/html": [
       "\n",
       "<style>\n",
       ".output_png {\n",
       "    display: table-cell;\n",
       "    text-align: center;\n",
       "    vertical-align: middle;\n",
       "}\n",
       "</style>\n"
      ],
      "text/plain": [
       "<IPython.core.display.HTML object>"
      ]
     },
     "execution_count": 34,
     "metadata": {},
     "output_type": "execute_result"
    }
   ],
   "source": [
    "# Code to set all plots centre of notebook\n",
    "from IPython.core.display import HTML\n",
    "HTML(\"\"\"\n",
    "<style>\n",
    ".output_png {\n",
    "    display: table-cell;\n",
    "    text-align: center;\n",
    "    vertical-align: middle;\n",
    "}\n",
    "</style>\n",
    "\"\"\")"
   ]
  },
  {
   "cell_type": "markdown",
   "metadata": {},
   "source": [
    "## <center> Linear regression with multiple predictors <center>"
   ]
  },
  {
   "cell_type": "markdown",
   "metadata": {},
   "source": [
    "Extenidng the simple regression model $ y = \\alpha + \\beta x + \\sigma$ to the general model that includes more than one predictor $y = \\beta_0 + \\beta_1x_1 + ... + \\beta_nx_n + \\sigma$ the complexity increases with an increase in choice of predictors and interpretation.\n"
   ]
  },
  {
   "cell_type": "markdown",
   "metadata": {},
   "source": [
    "To interpret regression coeffiecents in multiple regression is hard because the calculated coefficients depend on the other predictors of the model. "
   ]
  },
  {
   "cell_type": "code",
   "execution_count": 78,
   "metadata": {},
   "outputs": [
    {
     "data": {
      "text/html": [
       "<div>\n",
       "<style scoped>\n",
       "    .dataframe tbody tr th:only-of-type {\n",
       "        vertical-align: middle;\n",
       "    }\n",
       "\n",
       "    .dataframe tbody tr th {\n",
       "        vertical-align: top;\n",
       "    }\n",
       "\n",
       "    .dataframe thead th {\n",
       "        text-align: right;\n",
       "    }\n",
       "</style>\n",
       "<table border=\"1\" class=\"dataframe\">\n",
       "  <thead>\n",
       "    <tr style=\"text-align: right;\">\n",
       "      <th></th>\n",
       "      <th>kid_score</th>\n",
       "      <th>mom_hs</th>\n",
       "      <th>mom_iq</th>\n",
       "      <th>mom_work</th>\n",
       "      <th>mom_age</th>\n",
       "    </tr>\n",
       "  </thead>\n",
       "  <tbody>\n",
       "    <tr>\n",
       "      <td>0</td>\n",
       "      <td>65</td>\n",
       "      <td>1</td>\n",
       "      <td>121.117529</td>\n",
       "      <td>4</td>\n",
       "      <td>27</td>\n",
       "    </tr>\n",
       "    <tr>\n",
       "      <td>1</td>\n",
       "      <td>98</td>\n",
       "      <td>1</td>\n",
       "      <td>89.361882</td>\n",
       "      <td>4</td>\n",
       "      <td>25</td>\n",
       "    </tr>\n",
       "  </tbody>\n",
       "</table>\n",
       "</div>"
      ],
      "text/plain": [
       "   kid_score  mom_hs      mom_iq  mom_work  mom_age\n",
       "0         65       1  121.117529         4       27\n",
       "1         98       1   89.361882         4       25"
      ]
     },
     "execution_count": 78,
     "metadata": {},
     "output_type": "execute_result"
    }
   ],
   "source": [
    "# Import data\n",
    "url = \"https://raw.githubusercontent.com/avehtari/ROS-Examples/master/KidIQ/data/kidiq.csv\"\n",
    "df = pd.read_csv(url)\n",
    "df.head(2)"
   ]
  },
  {
   "cell_type": "markdown",
   "metadata": {},
   "source": [
    "# Stan Model for single predictor."
   ]
  },
  {
   "cell_type": "code",
   "execution_count": 10,
   "metadata": {},
   "outputs": [],
   "source": [
    "M1 = \"\"\"\n",
    "data{\n",
    "\n",
    "int<lower = 0> N;\n",
    "vector[N] x;\n",
    "vector[N] y;\n",
    "\n",
    "}\n",
    "\n",
    "parameters{\n",
    "\n",
    "real alpha;\n",
    "real beta;\n",
    "real<lower = 0> sigma;\n",
    "\n",
    "}\n",
    "\n",
    "model{\n",
    "\n",
    "// Likelihood\n",
    "\n",
    "y ~ normal(alpha + beta * x, sigma);\n",
    "\n",
    "}\n",
    "\n",
    "\"\"\""
   ]
  },
  {
   "cell_type": "code",
   "execution_count": 11,
   "metadata": {},
   "outputs": [
    {
     "name": "stderr",
     "output_type": "stream",
     "text": [
      "INFO:pystan:COMPILING THE C++ CODE FOR MODEL anon_model_c10334aa295965c8f00cf4fa40b9acf3 NOW.\n"
     ]
    }
   ],
   "source": [
    "# Compile stan model\n",
    "sm = ps.StanModel(model_code=M1)"
   ]
  },
  {
   "cell_type": "code",
   "execution_count": 16,
   "metadata": {},
   "outputs": [],
   "source": [
    "data = {\"N\": len(df),\n",
    "        \"x\": df[\"mom_hs\"].values,\n",
    "        \"y\": df[\"kid_score\"].values}"
   ]
  },
  {
   "cell_type": "markdown",
   "metadata": {},
   "source": [
    "# A single binary categrorical predictor"
   ]
  },
  {
   "cell_type": "code",
   "execution_count": 13,
   "metadata": {},
   "outputs": [],
   "source": [
    "# Fit regression model.\n",
    "fit = sm.sampling(data= data, chains=4, iter=2000)"
   ]
  },
  {
   "cell_type": "code",
   "execution_count": 14,
   "metadata": {},
   "outputs": [
    {
     "name": "stdout",
     "output_type": "stream",
     "text": [
      "Inference for Stan model: anon_model_c10334aa295965c8f00cf4fa40b9acf3.\n",
      "4 chains, each with iter=2000; warmup=1000; thin=1; \n",
      "post-warmup draws per chain=1000, total post-warmup draws=4000.\n",
      "\n",
      "        mean se_mean     sd   2.5%    25%    50%    75%  97.5%  n_eff   Rhat\n",
      "alpha  77.57    0.05   2.07  73.51   76.2  77.58  78.96  81.61   1727    1.0\n",
      "beta   11.76    0.06   2.31   7.26  10.21  11.71  13.29   16.5   1749    1.0\n",
      "sigma   19.9    0.01   0.66  18.66  19.44  19.88  20.34  21.23   2329    1.0\n",
      "lp__   -1511    0.03   1.17  -1514  -1511  -1511  -1510  -1510   1611    1.0\n",
      "\n",
      "Samples were drawn using NUTS at Mon Jan  4 12:57:14 2021.\n",
      "For each parameter, n_eff is a crude measure of effective sample size,\n",
      "and Rhat is the potential scale reduction factor on split chains (at \n",
      "convergence, Rhat=1).\n"
     ]
    }
   ],
   "source": [
    "# Print the model fit output.\n",
    "print(fit)"
   ]
  },
  {
   "cell_type": "markdown",
   "metadata": {},
   "source": [
    "To one decimal place the model above can be written and $ Kid \\hspace{1 mm} score = 78 + 12 * mother\\hspace{1 mm} high \\hspace{1 mm}school \\hspace{1 mm} completion \\hspace{1 mm} status$. With the model summarising the the diffence of average test scores of miothers who finished high school and mothers who didnt.\n",
    "\n",
    "$Intercept = 78$ and is the avergae(predicted scores) for children whos mother did not complete high school. with the $\\beta$ being the average difference between high school status mothers."
   ]
  },
  {
   "cell_type": "code",
   "execution_count": 39,
   "metadata": {},
   "outputs": [
    {
     "data": {
      "text/plain": [
       "Text(3.674999999999997, 0.5, 'Child test score')"
      ]
     },
     "execution_count": 39,
     "metadata": {},
     "output_type": "execute_result"
    },
    {
     "data": {
      "image/png": "[encoded data removed]",
      "text/plain": [
       "<Figure size 360x360 with 1 Axes>"
      ]
     },
     "metadata": {
      "needs_background": "light"
     },
     "output_type": "display_data"
    }
   ],
   "source": [
    "#Plot Two groups\n",
    "sns.catplot(x=\"mom_hs\", y=\"kid_score\", data=df)\n",
    "x_vals = np.arange(start=-0.4, stop=1.6, step=.1)\n",
    "y_vals = np.mean(fit[\"alpha\"]) + np.mean(fit[\"beta\"]) * x_vals\n",
    "plt.plot(x_vals, y_vals, 'g-')\n",
    "plt.xlabel(\"Mother high school completion status\")\n",
    "plt.ylabel(\"Child test score\")"
   ]
  },
  {
   "cell_type": "markdown",
   "metadata": {},
   "source": [
    "# A single continuous predictor"
   ]
  },
  {
   "cell_type": "code",
   "execution_count": 41,
   "metadata": {},
   "outputs": [],
   "source": [
    "# Python dictionatry containing the mother iq scores to fit a simple regresions\n",
    "data_1 = {\"N\": len(df),\n",
    "        \"x\": df[\"mom_iq\"].values,\n",
    "        \"y\": df[\"kid_score\"].values}"
   ]
  },
  {
   "cell_type": "code",
   "execution_count": 42,
   "metadata": {},
   "outputs": [],
   "source": [
    "fit_1 = sm.sampling(data = data_1, chains=4, iter=2000)"
   ]
  },
  {
   "cell_type": "code",
   "execution_count": 44,
   "metadata": {},
   "outputs": [],
   "source": [
    "#print(fit_1)"
   ]
  },
  {
   "cell_type": "code",
   "execution_count": 57,
   "metadata": {},
   "outputs": [
    {
     "data": {
      "text/plain": [
       "Text(0, 0.5, 'Child test score')"
      ]
     },
     "execution_count": 57,
     "metadata": {},
     "output_type": "execute_result"
    },
    {
     "data": {
      "image/png": "[encoded data removed]",
      "text/plain": [
       "<Figure size 432x288 with 1 Axes>"
      ]
     },
     "metadata": {
      "needs_background": "light"
     },
     "output_type": "display_data"
    }
   ],
   "source": [
    "sns.scatterplot(x=\"mom_iq\", y=\"kid_score\", data=df)\n",
    "x_vals = np.arange(start= 65, stop= 145, step = 1)\n",
    "y_vals = np.mean(fit_1[\"alpha\"]) + np.mean(fit_1[\"beta\"]) * x_vals\n",
    "plt.plot(x_vals, y_vals, 'k-')\n",
    "plt.xlabel(\"Mother IQ score\")\n",
    "plt.ylabel(\"Child test score\")"
   ]
  },
  {
   "cell_type": "markdown",
   "metadata": {},
   "source": [
    "## Fitting a regression model with both the binary and continous predictor variables."
   ]
  },
  {
   "cell_type": "code",
   "execution_count": 62,
   "metadata": {},
   "outputs": [],
   "source": [
    "M2 = \"\"\"\n",
    "data {\n",
    "\n",
    "  int<lower=0> N;   // Number of data points\n",
    "  int<lower=0> K;   // Number of predictor variables\n",
    "  matrix[N, K] x;   // Predictor variable (IV) matrix\n",
    "  vector[N] y;      // Vector of Dependent variable (DV) values\n",
    "  \n",
    "}\n",
    "parameters {\n",
    "\n",
    "  real alpha;           // Intercept term\n",
    "  vector[K] beta;       // Coefficients for predictors\n",
    "  real<lower=0> sigma;  // Standard deviation\n",
    "  \n",
    "}\n",
    "model {\n",
    "\n",
    "  y ~ normal(alpha + x * beta, sigma);  // likelihood\n",
    "  \n",
    "}\n",
    "\n",
    "\"\"\""
   ]
  },
  {
   "cell_type": "code",
   "execution_count": 70,
   "metadata": {},
   "outputs": [
    {
     "name": "stderr",
     "output_type": "stream",
     "text": [
      "INFO:pystan:COMPILING THE C++ CODE FOR MODEL anon_model_0c7a30402c33e2c0ad56794c10296668 NOW.\n"
     ]
    }
   ],
   "source": [
    "sm1 = ps.StanModel(model_code=M2)"
   ]
  },
  {
   "cell_type": "code",
   "execution_count": 75,
   "metadata": {},
   "outputs": [],
   "source": [
    "data_2 = {\"N\": len(df),\n",
    "          \"K\": 2,\n",
    "          \"x\": df[[\"mom_hs\", \"mom_iq\"]],\n",
    "          \"y\": df[\"kid_score\"].values}\n"
   ]
  },
  {
   "cell_type": "code",
   "execution_count": 76,
   "metadata": {},
   "outputs": [],
   "source": [
    "fit_2 = sm1.sampling(data = data_2, chains = 4, iter = 2000)"
   ]
  },
  {
   "cell_type": "code",
   "execution_count": 77,
   "metadata": {},
   "outputs": [
    {
     "name": "stdout",
     "output_type": "stream",
     "text": [
      "Inference for Stan model: anon_model_0c7a30402c33e2c0ad56794c10296668.\n",
      "4 chains, each with iter=2000; warmup=1000; thin=1; \n",
      "post-warmup draws per chain=1000, total post-warmup draws=4000.\n",
      "\n",
      "          mean se_mean     sd   2.5%    25%    50%    75%  97.5%  n_eff   Rhat\n",
      "alpha    25.56    0.15   5.81  14.38  21.47  25.47  29.51  37.09   1520    1.0\n",
      "beta[1]   5.96    0.05   2.25   1.48   4.52   5.99   7.41  10.41   2393    1.0\n",
      "beta[2]   0.57  1.5e-3   0.06   0.45   0.53   0.57   0.61   0.68   1486    1.0\n",
      "sigma    18.21    0.01   0.64  16.97  17.76  18.18  18.64  19.48   2562    1.0\n",
      "lp__     -1472    0.04   1.43  -1475  -1473  -1472  -1471  -1470   1537    1.0\n",
      "\n",
      "Samples were drawn using NUTS at Mon Jan  4 15:07:42 2021.\n",
      "For each parameter, n_eff is a crude measure of effective sample size,\n",
      "and Rhat is the potential scale reduction factor on split chains (at \n",
      "convergence, Rhat=1).\n"
     ]
    }
   ],
   "source": [
    "print(fit_2)"
   ]
  },
  {
   "cell_type": "markdown",
   "metadata": {},
   "source": [
    "The regression model fit to 1 decimal place is shown as\n",
    "\n",
    "$$ Kid\\hspace{1 mm} score = 26 + 6 * Mother \\hspace{1 mm} high  \\hspace{1 mm}school \\hspace{1 mm} status + 0.6 * Mother  \\hspace{1 mm} IQ + \\sigma$$\n",
    "\n",
    "The intercept. If a mother had an IQ of and did not complete high school you would predict a kid test scores of 26. Ofc course this intercept is non-sensical as mothers with IQ do not exist.\n",
    "\n",
    "The coefficent for maternal high school status"
   ]
  },
  {
   "cell_type": "code",
   "execution_count": null,
   "metadata": {},
   "outputs": [],
   "source": []
  }
 ],
 "metadata": {
  "kernelspec": {
   "display_name": "Python 3",
   "language": "python",
   "name": "python3"
  },
  "language_info": {
   "codemirror_mode": {
    "name": "ipython",
    "version": 3
   },
   "file_extension": ".py",
   "mimetype": "text/x-python",
   "name": "python",
   "nbconvert_exporter": "python",
   "pygments_lexer": "ipython3",
   "version": "3.7.4"
  }
 },
 "nbformat": 4,
 "nbformat_minor": 2
}
