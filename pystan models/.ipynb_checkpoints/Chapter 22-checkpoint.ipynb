{
 "cells": [
  {
   "cell_type": "markdown",
   "metadata": {},
   "source": [
    "# Chapter 22"
   ]
  },
  {
   "cell_type": "code",
   "execution_count": 25,
   "metadata": {},
   "outputs": [],
   "source": [
    "#Import relvant analyis and visualisation packages.\n",
    "import pystan as ps\n",
    "import arviz as az\n",
    "import pandas as pd\n",
    "import numpy as np\n",
    "import seaborn as sns\n",
    "import matplotlib.pyplot as plt\n",
    "from scipy import stats"
   ]
  },
  {
   "cell_type": "code",
   "execution_count": 24,
   "metadata": {},
   "outputs": [
    {
     "data": {
      "text/html": [
       "<div>\n",
       "<style scoped>\n",
       "    .dataframe tbody tr th:only-of-type {\n",
       "        vertical-align: middle;\n",
       "    }\n",
       "\n",
       "    .dataframe tbody tr th {\n",
       "        vertical-align: top;\n",
       "    }\n",
       "\n",
       "    .dataframe thead th {\n",
       "        text-align: right;\n",
       "    }\n",
       "</style>\n",
       "<table border=\"1\" class=\"dataframe\">\n",
       "  <thead>\n",
       "    <tr style=\"text-align: right;\">\n",
       "      <th></th>\n",
       "      <th>x</th>\n",
       "      <th>n</th>\n",
       "      <th>y</th>\n",
       "    </tr>\n",
       "  </thead>\n",
       "  <tbody>\n",
       "    <tr>\n",
       "      <td>0</td>\n",
       "      <td>2</td>\n",
       "      <td>1443</td>\n",
       "      <td>1346</td>\n",
       "    </tr>\n",
       "    <tr>\n",
       "      <td>1</td>\n",
       "      <td>3</td>\n",
       "      <td>694</td>\n",
       "      <td>577</td>\n",
       "    </tr>\n",
       "  </tbody>\n",
       "</table>\n",
       "</div>"
      ],
      "text/plain": [
       "   x     n     y\n",
       "0  2  1443  1346\n",
       "1  3   694   577"
      ]
     },
     "execution_count": 24,
     "metadata": {},
     "output_type": "execute_result"
    }
   ],
   "source": [
    "# Import data from Aki vehtari's Regression and other stories github repository\n",
    "url = \"https://raw.githubusercontent.com/avehtari/ROS-Examples/master/Golf/data/golf.txt\"\n",
    "df = pd.read_csv(url, sep=\" \", skiprows =1, header=1)\n",
    "df.head(2)"
   ]
  },
  {
   "cell_type": "code",
   "execution_count": 33,
   "metadata": {},
   "outputs": [],
   "source": [
    "golf_logistic_Model = \"\"\"\n",
    "\n",
    "data{\n",
    "\n",
    "int J;\n",
    "int n[J];\n",
    "vector[J] x;\n",
    "int y[J];\n",
    "\n",
    "}\n",
    "\n",
    "parameters{\n",
    "real a;\n",
    "real b;\n",
    "}\n",
    "\n",
    "model{\n",
    "\n",
    "y ~ binomial_logit(n, a + b*x);\n",
    "\n",
    "}\n",
    "\n",
    "\"\"\""
   ]
  },
  {
   "cell_type": "code",
   "execution_count": 35,
   "metadata": {},
   "outputs": [
    {
     "name": "stderr",
     "output_type": "stream",
     "text": [
      "INFO:pystan:COMPILING THE C++ CODE FOR MODEL anon_model_4a319b233548f2f424a02ee4a9b21c33 NOW.\n"
     ]
    }
   ],
   "source": [
    "golf_logistic = ps.StanModel(model_code= golf_logistic_Model)"
   ]
  },
  {
   "cell_type": "code",
   "execution_count": 38,
   "metadata": {},
   "outputs": [
    {
     "data": {
      "text/plain": [
       "{'J': 19,\n",
       " 'n': array([1443,  694,  455,  353,  272,  256,  240,  217,  200,  237,  202,\n",
       "         192,  174,  167,  201,  195,  191,  147,  152], dtype=int64),\n",
       " 'x': array([ 2,  3,  4,  5,  6,  7,  8,  9, 10, 11, 12, 13, 14, 15, 16, 17, 18,\n",
       "        19, 20], dtype=int64),\n",
       " 'y': array([1346,  577,  337,  208,  149,  136,  111,   69,   67,   75,   52,\n",
       "          46,   54,   28,   27,   31,   33,   20,   24], dtype=int64)}"
      ]
     },
     "execution_count": 38,
     "metadata": {},
     "output_type": "execute_result"
    }
   ],
   "source": [
    "data = {\"J\": len(df),\n",
    "      \"n\": df[\"n\"].values,\n",
    "      \"x\": df[\"x\"].values,\n",
    "      \"y\": df[\"y\"].values}\n"
   ]
  },
  {
   "cell_type": "code",
   "execution_count": 39,
   "metadata": {},
   "outputs": [],
   "source": [
    "fit_logistic = golf_logistic.sampling(data = data, iter = 2000, chains = 4)"
   ]
  },
  {
   "cell_type": "code",
   "execution_count": 41,
   "metadata": {},
   "outputs": [
    {
     "name": "stdout",
     "output_type": "stream",
     "text": [
      "Inference for Stan model: anon_model_4a319b233548f2f424a02ee4a9b21c33.\n",
      "4 chains, each with iter=2000; warmup=1000; thin=1; \n",
      "post-warmup draws per chain=1000, total post-warmup draws=4000.\n",
      "\n",
      "       mean se_mean     sd   2.5%    25%    50%    75%  97.5%  n_eff   Rhat\n",
      "a      2.23  1.8e-3   0.06   2.12   2.19   2.23   2.27   2.34    941    1.0\n",
      "b     -0.26  2.1e-4 6.5e-3  -0.27  -0.26  -0.26  -0.25  -0.24    930   1.01\n",
      "lp__  -3021    0.03   0.99  -3023  -3021  -3020  -3020  -3020   1410    1.0\n",
      "\n",
      "Samples were drawn using NUTS at Tue Dec 22 12:25:17 2020.\n",
      "For each parameter, n_eff is a crude measure of effective sample size,\n",
      "and Rhat is the potential scale reduction factor on split chains (at \n",
      "convergence, Rhat=1).\n"
     ]
    }
   ],
   "source": [
    "print(fit_logistic)"
   ]
  },
  {
   "cell_type": "code",
   "execution_count": null,
   "metadata": {},
   "outputs": [],
   "source": []
  }
 ],
 "metadata": {
  "kernelspec": {
   "display_name": "Python 3",
   "language": "python",
   "name": "python3"
  },
  "language_info": {
   "codemirror_mode": {
    "name": "ipython",
    "version": 3
   },
   "file_extension": ".py",
   "mimetype": "text/x-python",
   "name": "python",
   "nbconvert_exporter": "python",
   "pygments_lexer": "ipython3",
   "version": "3.7.4"
  }
 },
 "nbformat": 4,
 "nbformat_minor": 2
}
