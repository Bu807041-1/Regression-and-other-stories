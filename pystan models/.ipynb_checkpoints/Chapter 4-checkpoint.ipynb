{
 "cells": [
  {
   "cell_type": "markdown",
   "metadata": {},
   "source": [
    "# Lesson 4\n",
    "This class is based on chapter four from Gelman, Hill and Vehtari (2019)."
   ]
  },
  {
   "cell_type": "markdown",
   "metadata": {},
   "source": [
    "# Statistical Inference"
   ]
  },
  {
   "cell_type": "markdown",
   "metadata": {},
   "source": [
    "The reason statistical infernce exist and is of any use is because we cannot get our hands on complete data (measuring the height of all males and females is not practically achievable) or our data is imperfect,\n",
    "\n",
    "The three paradigms to understand the role of statistical inference.\n",
    "\n",
    "1. As a sampling model: we wish to understand a population charateristic (i.e. heights of women in some country), by estimating form that sample.\n",
    "\n",
    "2. Measurement error model: the interest is in some pattern, but there is error in the data for $x$\n",
    "\n",
    "3. Model error: models are imperfect to completely wrong (simplicaifcation of reality).\n",
    "\n",
    "These are conerns that are often (at least should) considered synergistically when it comes to conducteing statisitical inference. Gelman et al. (2019) provide the example of predicting academic scores for students from a pretest using a regression model. In such a study there is sampling of a set of student from the wide array of students with the desire to genralise to the population with the results. There is measuremetn error as no academic test that can give an exact represtnation of a students capacities. there is modle error as the use of say a linear function in a regression is only a approximation of the relationship for test scores."
   ]
  },
  {
   "cell_type": "markdown",
   "metadata": {},
   "source": [
    "### Sampling distributions\n",
    "\n",
    "A sampling dsirtibution is the set of all possible datasets for the hyptoehrtical repeation of an experiment. With the distribution being determined by the process of data collection or the model of that process.\n",
    "\n",
    "The simplest sampling distribution is the pure ranodm model where the the data are a random sample with size $n$ and poputlionis of size $N$, which results in the sampling distribution being the set of all possible dastsrt with the sample  size $n$ with equal probability.\n",
    "\n",
    "Another simple example is that of measurement error $\\sigma$ where if the dat $y_i, i = 1,...,n$ are genrated from the linear model $ y_i = \\alpha + \\beta x_i + \\sigma_i$"
   ]
  },
  {
   "cell_type": "markdown",
   "metadata": {},
   "source": [
    "# Parameters, Estimands and estimates\n",
    "\n",
    "- Parameter, are the unkown values that detemine a statistical model\n",
    "\n",
    "For example take the linear model $ y_i = \\alpha + \\beta x_i + \\sigma_i$ the parameters with this statical model are $\\alpha, \\beta, \\sigma$, the $\\alpha$ and $\\beta$ parameters are coefficents and $\\sigma$ is the varaince parameter. paraemters from a fitted model are useful as they can be used to ismulate new (hypothetical) data from the model.\n",
    "\n",
    "- Estimand, are summaries of the parameters or data that the analyst or evaultor is interested in\n",
    "\n",
    "For example, the $\\alpha$  is the intercept and the value of the dependent vaiabke when the independet variable $x = 0$\n",
    "\n",
    "- Estimates\n",
    "\n",
    "Data is used to create estimates of the model parameter and they also have distribtuions that are a result of data's sampling distribution.\n"
   ]
  },
  {
   "cell_type": "markdown",
   "metadata": {},
   "source": [
    "### Standard errors and Confidence intervals\n",
    "\n",
    "A standard error (SE) is an estiamte of the standard deviation of parameter estimate and describes the ucnertainty about the estimate. A quality of SE is that as sample size ${n\\to\\infty}$ $SE\\to0$.\n",
    "\n",
    "Confiidence intervals (CI) give an interval of values for the parameter that are consistent with the data given the asusumed sampling distribtuinon (Gaussian for many standard statistical methods). A result of this is that if the model is correct then upon repeated sampling for the standard 95% confidence interval will contain the true value 95% of the time. In the case of standard methods that are assumed to have a gaussian sampling distribution to tale the 95% is to take $\\pm1.96$ SE's with the 68% CI defined by $\\pm1$ SE and the 50% CI taking the $\\pm\\frac{2}{3}$ of a SE.\n",
    "\n",
    "### SE and CI of averages and proportions\n",
    "\n",
    "Estiamting the standard error of the mean is calculated by $\\sigma/\\sqrt{n}$\n",
    "\n",
    "Caluating thwe standard error for proportion where the data are 0's and 1's from a survey with responses of yes and no with data $y$ with a size $n$ with no resposnes of $0 = n-y$ . An estimate of yes repsosnes to such a survey is derived from $\\hat{p} = y/n$ thr SE i calculated using this formula $\\sqrt{\\hat{p}(1-\\hat{p}/n}$"
   ]
  },
  {
   "cell_type": "code",
   "execution_count": 3,
   "metadata": {},
   "outputs": [],
   "source": [
    "from scipy.stats import norm\n",
    "import numpy as np"
   ]
  },
  {
   "cell_type": "code",
   "execution_count": 30,
   "metadata": {},
   "outputs": [
    {
     "name": "stdout",
     "output_type": "stream",
     "text": [
      "Lower bound of the interval 0.6710172465076211\n",
      "Upper bound of the interval 0.6710172465076211\n"
     ]
    }
   ],
   "source": [
    "# the CI can be calucated for a proportion usign the normal sampling disritbution assumption for the data.\n",
    "y=700\n",
    "n =1000\n",
    "estimate = y/n\n",
    "\n",
    "#Lower bound of the interval\n",
    "lb = estimate - 2 * np.sqrt(estimate*(1-estimate)/n)\n",
    "print(\"Lower bound of the interval\", lb) \n",
    "\n",
    "# Upper bound\n",
    "ub = estimate + 2 * np.sqrt(estimate*(1-estimate)/n)\n",
    "print(\"Upper bound of the interval\", lb) "
   ]
  },
  {
   "cell_type": "markdown",
   "metadata": {},
   "source": [
    "### Standard error for a comparison\n",
    "\n",
    "The SE for the comparison of two independent quantities is calculated as\n",
    "\n",
    "$$Standard \\hspace{.1cm} error \\hspace{.1cm} of \\hspace{.1cm} the \\hspace{.1cm} difference =\\sqrt{SE_1^2 + E_2^2}$$\n",
    "\n"
   ]
  },
  {
   "cell_type": "markdown",
   "metadata": {},
   "source": []
  },
  {
   "cell_type": "markdown",
   "metadata": {},
   "source": [
    "# <center> References</center>"
   ]
  },
  {
   "cell_type": "markdown",
   "metadata": {},
   "source": [
    "Gelman, A., Hill, J., & Vehatari, A. (2019). Regression and other stories. New York, NY: Cambride Univeersity Press."
   ]
  }
 ],
 "metadata": {
  "kernelspec": {
   "display_name": "Python 3",
   "language": "python",
   "name": "python3"
  },
  "language_info": {
   "codemirror_mode": {
    "name": "ipython",
    "version": 3
   },
   "file_extension": ".py",
   "mimetype": "text/x-python",
   "name": "python",
   "nbconvert_exporter": "python",
   "pygments_lexer": "ipython3",
   "version": "3.7.4"
  }
 },
 "nbformat": 4,
 "nbformat_minor": 2
}
