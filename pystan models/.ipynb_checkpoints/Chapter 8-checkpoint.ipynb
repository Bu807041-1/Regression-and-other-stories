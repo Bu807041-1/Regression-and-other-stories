{
 "cells": [
  {
   "cell_type": "markdown",
   "metadata": {},
   "source": [
    "# Class 8"
   ]
  },
  {
   "cell_type": "code",
   "execution_count": null,
   "metadata": {},
   "outputs": [],
   "source": [
    "# import pacakges \n",
    "import numpy as np"
   ]
  },
  {
   "cell_type": "markdown",
   "metadata": {},
   "source": [
    "# Fitting regression models\n",
    "\n",
    "This notebook aims to outline the mathmatical structure of statical ifnernce with regression models, as presented by Gelman, Hill and vehtari (2019)."
   ]
  },
  {
   "cell_type": "markdown",
   "metadata": {},
   "source": [
    "## Ordinary least squares (OLS), Maximum Likelihood (MLE) and Bayesian inference\n",
    "\n",
    "This notebook is condecerned with inference, specifically estimation using regression and quantifying our uncertainty about those estimates.\n",
    "\n",
    "#### OLS\n",
    "\n",
    "Classical linear regression is the lienar model of $y_i = \\alpha + \\beta x_i + \\sigma_i$ $i = 1,...,n$ coefficents are esitmated with the mimisation of the error $\\sigma_i$. because of error when we fit a model to data we acquire estimtes of the model parameters $\\hat{\\alpha}, \\hat{\\beta}$ that minimise residual sum of squares (RSS)\n",
    "\n",
    "$$\\begin{equation}\n",
    "RSS = \n",
    "\\sum_{i = 1}^{n}(y_i - (\\hat{\\alpha} + \\hat{\\beta} x_i))^2\n",
    "\\label{sum}\n",
    "\\end{equation}\n",
    "$$\n",
    "\n",
    "The $\\hat{\\alpha}, \\hat{\\beta}$ that minimises the RSS is called the OLS Estimate and in Matrix notation is $$\\hat{\\beta} =(X^tX)^{-1}X^t y $$ \n",
    "$$\\hat{\\beta} = (\\alpha, \\beta)$$\n",
    "$$X = (1,x)$$\n"
   ]
  },
  {
   "cell_type": "code",
   "execution_count": 3,
   "metadata": {},
   "outputs": [],
   "source": [
    "# Create a function for calcualting the RSS directly\n",
    "\n",
    "def RSS(x, y, a, b):\n",
    "        resid = y - (a + b * x)\n",
    "        print(np.sum((resid**2)))\n",
    "        \n",
    "RSS        "
   ]
  },
  {
   "cell_type": "code",
   "execution_count": null,
   "metadata": {},
   "outputs": [],
   "source": []
  }
 ],
 "metadata": {
  "kernelspec": {
   "display_name": "Python 3",
   "language": "python",
   "name": "python3"
  },
  "language_info": {
   "codemirror_mode": {
    "name": "ipython",
    "version": 3
   },
   "file_extension": ".py",
   "mimetype": "text/x-python",
   "name": "python",
   "nbconvert_exporter": "python",
   "pygments_lexer": "ipython3",
   "version": "3.7.4"
  }
 },
 "nbformat": 4,
 "nbformat_minor": 2
}
