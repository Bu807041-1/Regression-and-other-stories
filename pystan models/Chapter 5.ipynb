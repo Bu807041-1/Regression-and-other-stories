{
 "cells": [
  {
   "cell_type": "markdown",
   "metadata": {},
   "source": [
    "# Lesson 5"
   ]
  },
  {
   "cell_type": "code",
   "execution_count": 22,
   "metadata": {},
   "outputs": [],
   "source": [
    "import numpy as np\n",
    "import matplotlib.pyplot as plt"
   ]
  },
  {
   "cell_type": "markdown",
   "metadata": {},
   "source": [
    "#  Simulation\n",
    "\n",
    "Simulation is a key tool for the understandng and use of modern aplliied statical practice. It is  primarily framed in the simualtion of random varaibles. By using probability models to model varaition we can better undertsand varaition in the real world and the data we collect. It is greatly beneficial due to the poor human heurtistics for undrestanding varaition without training our inttutions of which data simulation can do. in additon simualtion can be used to genrate a sampling dsitributions . Simulation is also useful as statical models (Regression) are not deterministic, but genrzate predcitions Probabilistically. Simulations are used througt ROS (Gelman et al. 2019), some exmaple are given below simualted using python\n",
    " \n"
   ]
  },
  {
   "cell_type": "markdown",
   "metadata": {},
   "source": [
    "# Simulate Discrete random variables\n",
    "\n",
    "Number of Girls in 400 births?\n",
    "\n",
    "The probailty of having a girl is 48.8% and of course the probability of having a biy is the complement of this 51.2%. Therfore, in a hospital that has 400 babies born in it a year, a question that we can ask is how many will be girls."
   ]
  },
  {
   "cell_type": "code",
   "execution_count": 47,
   "metadata": {},
   "outputs": [
    {
     "data": {
      "text/plain": [
       "(array([  8.,  45., 111., 223., 264., 203., 103.,  31.,  10.,   2.]),\n",
       " array([166. , 172.6, 179.2, 185.8, 192.4, 199. , 205.6, 212.2, 218.8,\n",
       "        225.4, 232. ]),\n",
       " <a list of 10 Patch objects>)"
      ]
     },
     "execution_count": 47,
     "metadata": {},
     "output_type": "execute_result"
    },
    {
     "data": {
      "image/png": "[encoded data removed]",
      "text/plain": [
       "<Figure size 432x288 with 1 Axes>"
      ]
     },
     "metadata": {
      "needs_background": "light"
     },
     "output_type": "display_data"
    }
   ],
   "source": [
    "# Simulate 400 births using the binomial distribution with the paramter theta set at the female percentage of births\n",
    "\n",
    "np.random.binomial(400, 0.488 ,size = 1)\n",
    "\n",
    "# The line code above simaulted 400 births gernated the number of girls that could be produced by such a scenario.\n",
    "# Really we want a distirubuion of potential outcomes to get a better sense of potetnial putcomes ofr the number of girls\n",
    "# born in said hospital. To accomlish this we can use a for loop\n",
    "\n",
    "#Number of simulations\n",
    "n_sims = 1000\n",
    "\n",
    "#Genrate empty numpy array with NaN to be replaced by binomail simualtions\n",
    "n_girls = np.empty(1000)\n",
    "n_girls[:] = np.NaN\n",
    "\n",
    "for i in range(n_sims):\n",
    "    sim = np.random.binomial(400, 0.488 ,size = 1)\n",
    "    n_girls[i] = sim\n",
    "    #n_girls.append(np.random.binomial(400, 0.488 ,size = 1))\n",
    "\n",
    "plt.hist(n_girls)"
   ]
  },
  {
   "cell_type": "code",
   "execution_count": 48,
   "metadata": {},
   "outputs": [
    {
     "data": {
      "text/plain": [
       "(array([  8.,  21.,  71., 139., 205., 250., 168.,  95.,  33.,  10.]),\n",
       " array([165., 171., 177., 183., 189., 195., 201., 207., 213., 219., 225.]),\n",
       " <a list of 10 Patch objects>)"
      ]
     },
     "execution_count": 48,
     "metadata": {},
     "output_type": "execute_result"
    },
    {
     "data": {
      "image/png": "[encoded data removed]",
      "text/plain": [
       "<Figure size 432x288 with 1 Axes>"
      ]
     },
     "metadata": {
      "needs_background": "light"
     },
     "output_type": "display_data"
    }
   ],
   "source": [
    "# The simualtion above was condcuted using a for loop but it use is more pedagogical than for efficency. \n",
    "# The same could be achieved using the np.random.binomial() function. note varaition due to random number generator\n",
    "\n",
    "plt.hist(np.random.binomial(400, 0.488 ,size = n_sims))"
   ]
  },
  {
   "cell_type": "markdown",
   "metadata": {},
   "source": [
    "# Acounting for twins"
   ]
  },
  {
   "cell_type": "code",
   "execution_count": 58,
   "metadata": {},
   "outputs": [
    {
     "ename": "ValueError",
     "evalue": "probabilities are not non-negative",
     "output_type": "error",
     "traceback": [
      "\u001b[1;31m---------------------------------------------------------------------------\u001b[0m",
      "\u001b[1;31mValueError\u001b[0m                                Traceback (most recent call last)",
      "\u001b[1;32m<ipython-input-58-3725127963d6>\u001b[0m in \u001b[0;36m<module>\u001b[1;34m\u001b[0m\n\u001b[0;32m      5\u001b[0m \u001b[1;33m\u001b[0m\u001b[0m\n\u001b[0;32m      6\u001b[0m \u001b[1;33m\u001b[0m\u001b[0m\n\u001b[1;32m----> 7\u001b[1;33m \u001b[0mnp\u001b[0m\u001b[1;33m.\u001b[0m\u001b[0mrandom\u001b[0m\u001b[1;33m.\u001b[0m\u001b[0mchoice\u001b[0m\u001b[1;33m(\u001b[0m\u001b[0mBirthCategory\u001b[0m\u001b[1;33m,\u001b[0m \u001b[0msize\u001b[0m \u001b[1;33m=\u001b[0m \u001b[0mlen\u001b[0m\u001b[1;33m(\u001b[0m\u001b[0mgirls\u001b[0m\u001b[1;33m)\u001b[0m\u001b[1;33m,\u001b[0m \u001b[0mreplace\u001b[0m \u001b[1;33m=\u001b[0m \u001b[1;32mTrue\u001b[0m\u001b[1;33m,\u001b[0m \u001b[0mp\u001b[0m \u001b[1;33m=\u001b[0m \u001b[1;33m[\u001b[0m\u001b[1;36m1\u001b[0m\u001b[1;33m/\u001b[0m\u001b[1;36m125\u001b[0m\u001b[1;33m,\u001b[0m \u001b[1;36m1\u001b[0m\u001b[1;33m/\u001b[0m\u001b[1;36m300\u001b[0m\u001b[1;33m,\u001b[0m \u001b[1;36m1\u001b[0m \u001b[1;33m-\u001b[0m \u001b[1;36m125\u001b[0m \u001b[1;33m-\u001b[0m \u001b[1;36m1\u001b[0m\u001b[1;33m/\u001b[0m\u001b[1;36m300\u001b[0m\u001b[1;33m]\u001b[0m\u001b[1;33m)\u001b[0m\u001b[1;33m\u001b[0m\u001b[1;33m\u001b[0m\u001b[0m\n\u001b[0m",
      "\u001b[1;32mmtrand.pyx\u001b[0m in \u001b[0;36mmtrand.RandomState.choice\u001b[1;34m()\u001b[0m\n",
      "\u001b[1;31mValueError\u001b[0m: probabilities are not non-negative"
     ]
    }
   ],
   "source": [
    "#To get closer results to reality it is possible to accomodate for the probability of a twin births in the model\n",
    "BirthCategory = [\"fraternal twin\", \"identical twin\", \"single birth\"]\n",
    "girls = np.empty(400)\n",
    "girls[:] = np.NaN\n",
    "\n",
    "\n",
    "np.random.choice(BirthCategory, size = len(girls), replace = True, p = [1/125, 1/300, 1 - 125 - 1/300])"
   ]
  },
  {
   "cell_type": "code",
   "execution_count": null,
   "metadata": {},
   "outputs": [],
   "source": []
  }
 ],
 "metadata": {
  "kernelspec": {
   "display_name": "Python 3",
   "language": "python",
   "name": "python3"
  },
  "language_info": {
   "codemirror_mode": {
    "name": "ipython",
    "version": 3
   },
   "file_extension": ".py",
   "mimetype": "text/x-python",
   "name": "python",
   "nbconvert_exporter": "python",
   "pygments_lexer": "ipython3",
   "version": "3.7.4"
  }
 },
 "nbformat": 4,
 "nbformat_minor": 2
}
