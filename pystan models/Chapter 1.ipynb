{
 "cells": [
  {
   "cell_type": "markdown",
   "metadata": {},
   "source": [
    "# Lesson one \n",
    "This class is based on chapter one from Gelman, Hill and Vehtari (2019). "
   ]
  },
  {
   "cell_type": "markdown",
   "metadata": {},
   "source": [
    "The challenge of using regression modelling is that of building, understanding and ultimately using them for predcitive purposes as they are desinged to be used, with the reality of the pheneomna understudy and the avaible data.  "
   ]
  },
  {
   "cell_type": "markdown",
   "metadata": {},
   "source": [
    "## The three challenges of statisitics inference\n",
    "\n",
    "1. Genralising from sample to population.\n",
    "2. Genralising from treatmetn to control group. The problem focused on causal infernce using statistical models.\n",
    "3. Genralising from observed mesauremtns to the phenomena under study.\n",
    "\n",
    "The challenges above can be tackled using statistical infernce (used of mathematical models to make claims about data).\n"
   ]
  },
  {
   "cell_type": "markdown",
   "metadata": {},
   "source": [
    "# Why regression\n",
    "\n",
    "For many researchers they may have never even questinoend why during the start of their scietific training they learnt statics and learnt about regression (all standard statistical test ,t-test, ANOVA are subtype application of the general linear model and thus a regression, see, https://lindeloev.github.io/tests-as-linear/).\n",
    "\n",
    "The reason regression is taught and is so useful to resaercher is that it allows reseachers to summarise predictions of an outocme variable defined by a set of predictors.\n",
    "\n",
    "This demonstated by some of the major uses of Regression.\n",
    "\n",
    "1. Prediction. This is done both in modelling the data at hand and well as forecasting future observation.\n",
    "2. Exploring associations. This is all about ideitfying how well prectior variables actually predcit the outcome (DV) variable.\n",
    "3. Extrapolation. Going from the data and adjusting for disffernces to population and the data is not always representative.\n",
    "4. Causual inference. Treatment and control comparison with the gold standard of Randomised control trials (RCT).\n",
    "\n",
    "Notice the used of regression is not to get a p-values < .05!!!"
   ]
  },
  {
   "cell_type": "markdown",
   "metadata": {},
   "source": [
    "### Side note\n",
    "The interested reader the book goes into many examples of regression analysis worth reading"
   ]
  },
  {
   "cell_type": "markdown",
   "metadata": {},
   "source": [
    "## Challenges of Regression modelling\n",
    "\n",
    "unfortunately despite the amazing computer softwares for conduting such regression analysis if we just plig and chug we are likely to do more harm than good Gigerenzer, (2004).\n",
    "\n",
    "Whilst avoiding the detailed discussion here if you take the case of causal infernce, problem quickly mount when ma claims the study design has to be randomised sufficently"
   ]
  },
  {
   "cell_type": "markdown",
   "metadata": {},
   "source": [
    "## Interpreting Coefficents in a regression model\n",
    "\n",
    "The general mathematical model of regression is of course.\n",
    "\n",
    "$$y = \\alpha + \\beta X + \\sigma$$\n",
    "\n",
    "$$ y = Dependent \\hspace{0.1cm} variable$$\n",
    "\n",
    "$$ \\alpha = intercept \\hspace{0.1cm} term$$\n",
    "\n",
    "$$ \\beta = slope \\hspace{0.1cm} term $$\n",
    "\n",
    "$$ X = independent \\hspace{0.1cm} variable $$\n",
    "\n",
    "$$ \\sigma = error \\hspace{0.1cm} term$$\n",
    "\n",
    "All parts of the equation above are important for interpretation and undertanding and again more interesting information can be \n",
    "interpreted than than looking just at p-value from fitting such a model to data. Gelman et al (2019) example is one of prediciting earnings (dollars) from height from survey data. The exanple equation produced is $earnings = 11000 + 1500 * (height - 60) + error \\hspace{0.1cm} (\\pm \\hspace{0.1cm} 22000)$\n",
    "\n",
    "If the interpeter of this regression model is not careful they may not check the error term and find statistical signiifcance and place much more practical significance to the model that the data actually suggest becasue the error term is so large that predcition with this model is all but useless. However whilst predcition is obviouly a highly useful applciation of regression the model above is still useful for understanding an association as the $\\beta$ is positive. in terms of extrapolation it would dependent on the represnatative. In terms of causal interpretation it might feel appropriate but due to the number of confounding variables that influence earnings it is inappropriate.\n",
    "\n"
   ]
  },
  {
   "cell_type": "markdown",
   "metadata": {},
   "source": [
    "# Classical and Bayesian inference\n",
    "\n",
    "These materials are focused on the teaching toward the application of the Bayesian framework using to your research problems. \n",
    "\n",
    "The classical framework is likely to be what reseearchers are accustomed. However before seperating the appoaches it is important to point out there commonalities.\n",
    "\n",
    "These commonalities include \n",
    "\n",
    "1. What information used in the estimation process\n",
    "2. The assumptions made\n",
    "3. how estimates and prediction are interpreted.\n",
    "\n",
    "### Information\n",
    "\n",
    "All regression analyses need data for the y(dv) and the predictor (IV) variable. In additin to the data we have some information for how they were collected. i.e syrvey we know the questions asked and in experiments we sometimes know something about the limatiations for the measurments. We often also have knowledge from previous studies. We also recently of course have the information that there is bias in the literature we read and that many of the effect sizes are exaggerated and the reality for many results is that they are not supported.\n",
    "\n",
    "### Assumptions\n",
    "\n",
    "Linearity (simple regression). This assumtion if focused on the functional relationship between x and y. \n",
    "\n",
    "Random sampling of the data.\n",
    "\n",
    "Real worlds relvancwe of the data, are they repeatable, predictive and robust out of sample.\n",
    "\n",
    "### Classical inference\n",
    "\n",
    "Classical infernce is more commonly used in comparison to Bayesian inference (see, Brooks, 2003; Dienes, 2011, for reasons). The goal of clasicla statisitics is to summarise the information in the data without using prior information, with the esimtate having well udnerstood properites of low variance and low bias. This is expressed int the use of the word freqwuentist to descirbe the classical framework of statistical infernce; expressed in the interst of the classical framewrok being built on long run frequencies of results from a repeatble applied methodology. The estiamtes should be on averge correct with conficenc interbals covetring ther true parameter 95% when calcualted each time they are applied.\n",
    "\n",
    "There are obvious benfits to this approach, but problem arise when sample sizes are small or the phemoemna being modelled is highly variable.\n",
    "\n",
    "### Bayesian inference\n",
    "\n",
    "Teh Bayesian alternative differs primarily due to the use of prior knowledge for estiamtion. A major befneift of the use of prior information is that infernces can be much more reasonable. Unfortunately the price of this is that prior infration has to be specified whch many can argue is contentious, which it is but nothing comes for free when it comes to inference. Bayeaain ifnercne then is a choice to use more than just the data which can actaully help with things like prediction even with less information in the form of data, but the model just simple requires the assumpion of a prior. \n",
    "\n",
    "Bayesian inference has the added benefit of all the results from fitting models having probalistic interpretations. Additonalyl yo get gewt this probabilitic interpretation with uniform and weakliy informative priors that can give simialr results tlo classical statisitics with the benefit of the more natural probabistic interprwetion that is ot possible with classical/frequentist framework.\n",
    "\n",
    "- <b>Crtitical note:</b> The breadth of statisitical tools that statisitians have provided  give us  options all with strenths and weakeness but being aware of alternatives is only beneficial.\n",
    "\n"
   ]
  },
  {
   "cell_type": "markdown",
   "metadata": {},
   "source": [
    "# <center> References </center> "
   ]
  },
  {
   "cell_type": "markdown",
   "metadata": {},
   "source": [
    "Dienes, Z. (2011). Bayesian versus orthodox statistics: Which side are you on?. Perspectives on Psychological Science, 6(3), 274-290.\n",
    "\n",
    "Brooks, S. P. (2003). Bayesian computation: a statistical revolution. Philosophical Transactions of the Royal Society of London. Series A: Mathematical, Physical and Engineering Sciences, 361(1813), 2681-2697.\n",
    "\n",
    "Gelman, A., Hill, J., & Vehatari, A. (2019). Regression and other stories. New York, NY: Cambride Univeersity Press.\n",
    "\n",
    "Gigerenzer, G. (2004). Mindless statistics. The Journal of Socio-Economics, 33(5), 587-606.\n"
   ]
  }
 ],
 "metadata": {
  "kernelspec": {
   "display_name": "Python 3",
   "language": "python",
   "name": "python3"
  },
  "language_info": {
   "codemirror_mode": {
    "name": "ipython",
    "version": 3
   },
   "file_extension": ".py",
   "mimetype": "text/x-python",
   "name": "python",
   "nbconvert_exporter": "python",
   "pygments_lexer": "ipython3",
   "version": "3.7.4"
  }
 },
 "nbformat": 4,
 "nbformat_minor": 2
}
