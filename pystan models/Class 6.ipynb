{
 "cells": [
  {
   "cell_type": "markdown",
   "metadata": {},
   "source": [
    "# Class 8"
   ]
  },
  {
   "cell_type": "markdown",
   "metadata": {},
   "source": [
    "In mathematical form regression modelelings purpose is 1. predicition and 2. Comparison.\n",
    "To be more specfic regression model can take some input and make prediciton for the modelled outcome variable with uncertainty; which is the same for the comparisons made possbible by regression modelling."
   ]
  },
  {
   "cell_type": "code",
   "execution_count": 41,
   "metadata": {},
   "outputs": [],
   "source": [
    "# Import packages relvant to this tutorial \n",
    "import numpy as np\n",
    "import pandas as pd\n",
    "import matplotlib.pyplot as plt\n",
    "import statsmodels.formula.api as sm"
   ]
  },
  {
   "cell_type": "markdown",
   "metadata": {},
   "source": [
    "# Regression models\n",
    "\n",
    "\n",
    "\n",
    "\n",
    "<center>The simplest case</center> \n",
    "$$ y = \\alpha + \\beta x + \\sigma$$\n",
    "\n",
    "The values that are specified $\\alpha$ $\\beta$ are the coefficents/parameters of the model. Whilst the model above can seem simple that is both it benefit and risk in application as it is flexible and can be expanded to model various rleations ship.\n",
    "\n",
    "\n",
    "\n",
    "For example:\n",
    "\n",
    "Additonal predcitors can be added to the model $ y = \\beta_0 + \\beta_1 x_1 + \\beta_2 x_2  + ... + \\beta_k x_k + \\sigma$\n",
    "\n",
    "Nonlinear models $ log y = \\alpha + \\beta log x + \\sigma$\n",
    "\n",
    "Nonaddtive models  $y =  \\beta_0 + \\beta_1 x_1 + \\beta_2 x_2 + \\beta_3 x_1 X_2 + \\sigma $\n",
    "\n",
    "Generalised linear models (Logistic)\n",
    "\n",
    "Nonparametric models\n",
    "\n",
    "Multi level models\n",
    "\n",
    "The tutorials beyond this point focus on the first 4 examples."
   ]
  },
  {
   "cell_type": "code",
   "execution_count": 52,
   "metadata": {},
   "outputs": [
    {
     "data": {
      "text/plain": [
       "[<matplotlib.lines.Line2D at 0x205f4050a48>]"
      ]
     },
     "execution_count": 52,
     "metadata": {},
     "output_type": "execute_result"
    },
    {
     "data": {
      "image/png": "[encoded data removed]",
      "text/plain": [
       "<Figure size 432x288 with 1 Axes>"
      ]
     },
     "metadata": {
      "needs_background": "light"
     },
     "output_type": "display_data"
    }
   ],
   "source": [
    "# Fitting regresion to simulated data, here we will remain using frequesntist tools for which you will be more used too.\n",
    "\n",
    "#Set seed fro reprodcuiblity in this example\n",
    "np.random.seed(484848)\n",
    "\n",
    "#\n",
    "x = np.arange(1,21)\n",
    "n = len(x)\n",
    "\n",
    "#Model parameters\n",
    "alpha = 0.2\n",
    "beta = 0.3\n",
    "sigma = 0.5\n",
    "\n",
    "#Define genrative model of the Dependent variable y\n",
    "y = alpha + beta * x + sigma * np.random.normal(size = n)\n",
    "\n",
    "# Plot to check it has worked and the data for y follows a linear function.\n",
    "plt.plot(y, 'bo')"
   ]
  },
  {
   "cell_type": "code",
   "execution_count": 53,
   "metadata": {},
   "outputs": [
    {
     "name": "stdout",
     "output_type": "stream",
     "text": [
      "                            OLS Regression Results                            \n",
      "==============================================================================\n",
      "Dep. Variable:                      y   R-squared:                       0.956\n",
      "Model:                            OLS   Adj. R-squared:                  0.953\n",
      "Method:                 Least Squares   F-statistic:                     388.7\n",
      "Date:                Thu, 24 Dec 2020   Prob (F-statistic):           1.23e-13\n",
      "Time:                        10:28:28   Log-Likelihood:                -7.7595\n",
      "No. Observations:                  20   AIC:                             19.52\n",
      "Df Residuals:                      18   BIC:                             21.51\n",
      "Df Model:                           1                                         \n",
      "Covariance Type:            nonrobust                                         \n",
      "==============================================================================\n",
      "                 coef    std err          t      P>|t|      [0.025      0.975]\n",
      "------------------------------------------------------------------------------\n",
      "Intercept      0.3404      0.175      1.949      0.067      -0.027       0.707\n",
      "x              0.2874      0.015     19.716      0.000       0.257       0.318\n",
      "==============================================================================\n",
      "Omnibus:                        0.252   Durbin-Watson:                   2.279\n",
      "Prob(Omnibus):                  0.882   Jarque-Bera (JB):                0.119\n",
      "Skew:                          -0.160   Prob(JB):                        0.942\n",
      "Kurtosis:                       2.799   Cond. No.                         25.0\n",
      "==============================================================================\n",
      "\n",
      "Warnings:\n",
      "[1] Standard Errors assume that the covariance matrix of the errors is correctly specified.\n"
     ]
    }
   ],
   "source": [
    "# Gnerate pandas data frame\n",
    "d = {\"y\": y,\n",
    "     \"x\": x}\n",
    "df = pd.DataFrame(d)\n",
    "\n",
    "# Fit regresion model\n",
    "fit = sm.ols(formula='y ~ x', data=df)\n",
    "\n",
    "results = fit.fit()\n",
    "print(results.summary())"
   ]
  },
  {
   "cell_type": "code",
   "execution_count": 71,
   "metadata": {},
   "outputs": [
    {
     "data": {
      "text/plain": [
       "Text(0, 0.5, 'Simulated y data points')"
      ]
     },
     "execution_count": 71,
     "metadata": {},
     "output_type": "execute_result"
    },
    {
     "data": {
      "image/png": "[encoded data removed]",
      "text/plain": [
       "<Figure size 432x288 with 1 Axes>"
      ]
     },
     "metadata": {
      "needs_background": "light"
     },
     "output_type": "display_data"
    }
   ],
   "source": [
    "# plot regression line\n",
    "m, b = np.polyfit(x, y, 1)\n",
    "plt.plot(y, 'bo')\n",
    "plt.plot(x, m*x + b)\n",
    "plt.xlabel(\"Simulated x points\")\n",
    "plt.ylabel(\"Simulated y data points\")"
   ]
  },
  {
   "cell_type": "code",
   "execution_count": 63,
   "metadata": {},
   "outputs": [
    {
     "data": {
      "text/plain": [
       "<matplotlib.lines.Line2D at 0x205f54607c8>"
      ]
     },
     "execution_count": 63,
     "metadata": {},
     "output_type": "execute_result"
    },
    {
     "data": {
      "image/png": "[encoded data removed]",
      "text/plain": [
       "<Figure size 432x288 with 1 Axes>"
      ]
     },
     "metadata": {
      "needs_background": "light"
     },
     "output_type": "display_data"
    }
   ],
   "source": [
    "# Residual plit\n",
    "plt.plot(y - results.fittedvalues, \"bo\")\n",
    "plt.title(\"Model residuals\")\n",
    "plt.xlim(0, 20)\n",
    "plt.axhline(0)"
   ]
  },
  {
   "cell_type": "markdown",
   "metadata": {},
   "source": [
    "# Interpreting regression coefficents as comparisons not effects\n",
    "\n",
    "In standard teaching regression coefficents are often describes as effects for Gelman et al. (2019) this is misleading and argue that coefficents are easier to interpret as comparisons"
   ]
  },
  {
   "cell_type": "markdown",
   "metadata": {},
   "source": [
    "# Regression to the mean\n",
    "\n",
    "The heights of individauls is the coomon way to expalin expalins this "
   ]
  },
  {
   "cell_type": "markdown",
   "metadata": {},
   "source": [
    "# Regression to the mean and its effects on casual understanding\n",
    "\n"
   ]
  },
  {
   "cell_type": "code",
   "execution_count": 85,
   "metadata": {},
   "outputs": [],
   "source": [
    "# Regression to the mean has caught out many people and has even resulted in claims of causality\n",
    "# this can be demosntarted with a simualted example\n",
    "\n",
    "# In a hyptoehrtical scenario we have a dataset with 1000 students with a test score in  the midlle of thes mester\n",
    "# and and a end of semester test score.\n",
    "\n",
    "#Set random nuber generator seed for replicability of example\n",
    "np.random.seed(484848)\n",
    "               \n",
    "Sample_size = 1000\n",
    "true_ability = np.random.normal(loc = 50, scale = 10,size = Sample_size)\n",
    "noise1 =  np.random.normal(loc = 0, scale = 10,size = Sample_size)\n",
    "noise2 = np.random.normal(loc = 0, scale = 10,size = Sample_size)\n",
    "\n",
    "mid = true_ability + noise1\n",
    "final = true_ability + noise2\n",
    "\n",
    "#Place values into pandas dataframe.\n",
    "exams = pd.DataFrame({\"mid\": mid, \"final\": final})\n"
   ]
  },
  {
   "cell_type": "code",
   "execution_count": 84,
   "metadata": {},
   "outputs": [
    {
     "data": {
      "text/html": [
       "<div>\n",
       "<style scoped>\n",
       "    .dataframe tbody tr th:only-of-type {\n",
       "        vertical-align: middle;\n",
       "    }\n",
       "\n",
       "    .dataframe tbody tr th {\n",
       "        vertical-align: top;\n",
       "    }\n",
       "\n",
       "    .dataframe thead th {\n",
       "        text-align: right;\n",
       "    }\n",
       "</style>\n",
       "<table border=\"1\" class=\"dataframe\">\n",
       "  <thead>\n",
       "    <tr style=\"text-align: right;\">\n",
       "      <th></th>\n",
       "      <th>mid</th>\n",
       "      <th>final</th>\n",
       "    </tr>\n",
       "  </thead>\n",
       "  <tbody>\n",
       "    <tr>\n",
       "      <td>0</td>\n",
       "      <td>80.295875</td>\n",
       "      <td>60.505314</td>\n",
       "    </tr>\n",
       "    <tr>\n",
       "      <td>1</td>\n",
       "      <td>48.868112</td>\n",
       "      <td>68.179352</td>\n",
       "    </tr>\n",
       "    <tr>\n",
       "      <td>2</td>\n",
       "      <td>71.850277</td>\n",
       "      <td>72.583640</td>\n",
       "    </tr>\n",
       "    <tr>\n",
       "      <td>3</td>\n",
       "      <td>56.884933</td>\n",
       "      <td>28.985994</td>\n",
       "    </tr>\n",
       "    <tr>\n",
       "      <td>4</td>\n",
       "      <td>33.602505</td>\n",
       "      <td>59.960314</td>\n",
       "    </tr>\n",
       "    <tr>\n",
       "      <td>...</td>\n",
       "      <td>...</td>\n",
       "      <td>...</td>\n",
       "    </tr>\n",
       "    <tr>\n",
       "      <td>995</td>\n",
       "      <td>78.586415</td>\n",
       "      <td>37.154661</td>\n",
       "    </tr>\n",
       "    <tr>\n",
       "      <td>996</td>\n",
       "      <td>32.368196</td>\n",
       "      <td>40.580731</td>\n",
       "    </tr>\n",
       "    <tr>\n",
       "      <td>997</td>\n",
       "      <td>46.505618</td>\n",
       "      <td>30.217014</td>\n",
       "    </tr>\n",
       "    <tr>\n",
       "      <td>998</td>\n",
       "      <td>48.272976</td>\n",
       "      <td>53.694994</td>\n",
       "    </tr>\n",
       "    <tr>\n",
       "      <td>999</td>\n",
       "      <td>37.976620</td>\n",
       "      <td>50.198556</td>\n",
       "    </tr>\n",
       "  </tbody>\n",
       "</table>\n",
       "<p>1000 rows × 2 columns</p>\n",
       "</div>"
      ],
      "text/plain": [
       "           mid      final\n",
       "0    80.295875  60.505314\n",
       "1    48.868112  68.179352\n",
       "2    71.850277  72.583640\n",
       "3    56.884933  28.985994\n",
       "4    33.602505  59.960314\n",
       "..         ...        ...\n",
       "995  78.586415  37.154661\n",
       "996  32.368196  40.580731\n",
       "997  46.505618  30.217014\n",
       "998  48.272976  53.694994\n",
       "999  37.976620  50.198556\n",
       "\n",
       "[1000 rows x 2 columns]"
      ]
     },
     "execution_count": 84,
     "metadata": {},
     "output_type": "execute_result"
    }
   ],
   "source": []
  },
  {
   "cell_type": "code",
   "execution_count": 86,
   "metadata": {},
   "outputs": [
    {
     "name": "stdout",
     "output_type": "stream",
     "text": [
      "                            OLS Regression Results                            \n",
      "==============================================================================\n",
      "Dep. Variable:                  final   R-squared:                       0.252\n",
      "Model:                            OLS   Adj. R-squared:                  0.251\n",
      "Method:                 Least Squares   F-statistic:                     336.3\n",
      "Date:                Thu, 24 Dec 2020   Prob (F-statistic):           5.84e-65\n",
      "Time:                        12:06:34   Log-Likelihood:                -3901.9\n",
      "No. Observations:                1000   AIC:                             7808.\n",
      "Df Residuals:                     998   BIC:                             7818.\n",
      "Df Model:                           1                                         \n",
      "Covariance Type:            nonrobust                                         \n",
      "==============================================================================\n",
      "                 coef    std err          t      P>|t|      [0.025      0.975]\n",
      "------------------------------------------------------------------------------\n",
      "Intercept     25.5703      1.375     18.592      0.000      22.871      28.269\n",
      "mid            0.4826      0.026     18.338      0.000       0.431       0.534\n",
      "==============================================================================\n",
      "Omnibus:                        0.020   Durbin-Watson:                   1.997\n",
      "Prob(Omnibus):                  0.990   Jarque-Bera (JB):                0.009\n",
      "Skew:                          -0.007   Prob(JB):                        0.995\n",
      "Kurtosis:                       2.998   Cond. No.                         190.\n",
      "==============================================================================\n",
      "\n",
      "Warnings:\n",
      "[1] Standard Errors assume that the covariance matrix of the errors is correctly specified.\n"
     ]
    }
   ],
   "source": [
    "# Fit regresion model\n",
    "fit1 = sm.ols(formula='final ~ mid', data=exams)\n",
    "\n",
    "results_1 = fit1.fit()\n",
    "print(results_1.summary())"
   ]
  },
  {
   "cell_type": "code",
   "execution_count": 97,
   "metadata": {},
   "outputs": [
    {
     "data": {
      "text/plain": [
       "Text(0, 0.5, 'Fnal exam test score')"
      ]
     },
     "execution_count": 97,
     "metadata": {},
     "output_type": "execute_result"
    },
    {
     "data": {
      "image/png": "[encoded data removed]",
      "text/plain": [
       "<Figure size 432x288 with 1 Axes>"
      ]
     },
     "metadata": {
      "needs_background": "light"
     },
     "output_type": "display_data"
    }
   ],
   "source": [
    "# Plotting regression with regression line\n",
    "plt.plot(mid, final, \"ko\")\n",
    "m1, b1 = np.polyfit(mid, final, 1)\n",
    "plt.plot(mid, m1*mid+ b1)\n",
    "plt.xlabel(\"Mid semester test score\")\n",
    "plt.ylabel(\"Fnal exam test score\")"
   ]
  },
  {
   "cell_type": "markdown",
   "metadata": {},
   "source": [
    "The estiamted slope from simaulted example above is  0.48, by being less than one gives an example of regression to the mean. As the high mid semester test scores score only about half as high compared to the avearge of the simualted sample, where as the low mid semester scores were not a low cpmoared to average for their final test scores."
   ]
  },
  {
   "cell_type": "code",
   "execution_count": null,
   "metadata": {},
   "outputs": [],
   "source": []
  }
 ],
 "metadata": {
  "kernelspec": {
   "display_name": "Python 3",
   "language": "python",
   "name": "python3"
  },
  "language_info": {
   "codemirror_mode": {
    "name": "ipython",
    "version": 3
   },
   "file_extension": ".py",
   "mimetype": "text/x-python",
   "name": "python",
   "nbconvert_exporter": "python",
   "pygments_lexer": "ipython3",
   "version": "3.7.4"
  }
 },
 "nbformat": 4,
 "nbformat_minor": 2
}
