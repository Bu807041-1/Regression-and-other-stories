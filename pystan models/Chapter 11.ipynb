{
 "cells": [
  {
   "cell_type": "markdown",
   "metadata": {},
   "source": [
    "# Class 11\n",
    "\n",
    "The following notebook is based on chapter 11 from Gelman, Hill and Vehtari (2019)"
   ]
  },
  {
   "cell_type": "code",
   "execution_count": 1,
   "metadata": {},
   "outputs": [],
   "source": [
    "#Import relevant analyis and visualition packages.\n",
    "import pystan as ps\n",
    "import pandas as pd\n",
    "import numpy as np\n",
    "import arviz as az\n",
    "import seaborn as sns\n",
    "import matplotlib.pyplot as plt\n",
    "from scipy import stats"
   ]
  },
  {
   "cell_type": "markdown",
   "metadata": {},
   "source": [
    "### Assumptions, diagnostics and model evaluation\n",
    "\n",
    "This notebooks focus is on the diagnostiuca nd assumtions of regression models. Relvant expert knowledge is also esstail for understanding the validity of a regression model."
   ]
  },
  {
   "cell_type": "markdown",
   "metadata": {},
   "source": [
    "The assumptions\n",
    "\n",
    "1. *Validity*. A seemingly obivous one to begin, but the data must be relevant to the research question. It has been ignored though as many questions a researcher maybe interested in may not be directly answerable or simple were not able to be answered by the methods/resources avaible to them. Of course an inconvienent truth. Ideally the outcome mesure should reflect the phenomena of interest, all predcitor vatriable are measured and put into the modle and that the model alos can genralise outside of the study data for predictions.\n",
    "\n",
    "\n",
    "2. *Representativeness* Staitical infernce and thus regression modelling is designed to infer from sample to the hypthetical population. Therefore and discssuion of model coefficents comes with the explicit assupmtion that the poulation is being discussed, therefore, the sample must be representative of the population. Spedifcially the dara must be representative of the distirbtuion of y given the predictor variable imputed into the model.\n",
    "\n",
    "\n",
    "3. *Additivity and Linearity*. A linear model deterimisntic element of the model in the lienar function of the predictor variables.\n",
    "\n",
    "\n",
    "4. *Independence of errors*. \n",
    "\n",
    "\n",
    "5. *Equal variance of errors*  Also termed heteroscedisity. The problbem with violating this assumption is when probabilistic predicitons are made. Howerver, it does not affect informtaion of predcitors and their combination.\n",
    "\n",
    "\n",
    "6. *Normality of errors*.\n"
   ]
  },
  {
   "cell_type": "markdown",
   "metadata": {},
   "source": [
    "### Failing assumptions\n",
    "\n",
    "Their are few options, these including transformation of data, to chanign the model assumtions with different error terms.\n",
    "\n",
    "If the data cannot fit the aasumtions of the model, the analyst always ahs the options to be conversvative with statements and simple be tranparent and outline what the model can and cannot say in terms of the question under investigation."
   ]
  },
  {
   "cell_type": "code",
   "execution_count": null,
   "metadata": {},
   "outputs": [],
   "source": [
    "M1 = \"\"\"\n",
    "data{\n",
    "\n",
    "}\n",
    "\n",
    "paramters\n",
    "\"\"\""
   ]
  }
 ],
 "metadata": {
  "kernelspec": {
   "display_name": "Python 3",
   "language": "python",
   "name": "python3"
  },
  "language_info": {
   "codemirror_mode": {
    "name": "ipython",
    "version": 3
   },
   "file_extension": ".py",
   "mimetype": "text/x-python",
   "name": "python",
   "nbconvert_exporter": "python",
   "pygments_lexer": "ipython3",
   "version": "3.7.4"
  }
 },
 "nbformat": 4,
 "nbformat_minor": 2
}
